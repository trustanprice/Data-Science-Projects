{
 "cells": [
  {
   "cell_type": "markdown",
   "metadata": {},
   "source": [
    "# STAT 207 Project 02 - Which Data Science Position is the Most Wealthy?\n",
    "\n",
    "Quinn Crockling and Gabe Price"
   ]
  },
  {
   "cell_type": "markdown",
   "metadata": {},
   "source": [
    "### Contribution Report\n",
    "\n",
    "If you open this document, you should edit and complete the contribution report.  Please complete this report if you work individually, in a group and your submission is the one to be graded, or in a group but someone else should be graded.\n",
    "\n",
    "In this contribution report below you should list of the following:\n",
    "1. The netID for the project submission to be graded.  (Some groups have each member create their own version of the document, but only one needs to be submitted for grading.  Other groups have only one member compose and submit the project.)\n",
    "2. Names and netIDs of each team member.\n",
    "3. Contributions to report of each team member.\n",
    "\n",
    "*For example:*\n",
    "\n",
    "*<u>Teammates:</u>*\n",
    "\n",
    "*doe105 should be graded.  John Smith (smith92) & Jane Doe (doe105) worked together on all parts of this project*, \n",
    "\n",
    "OR\n",
    "\n",
    "*doe105 should be graded*\n",
    "\n",
    "<i>1. John Smith (smith92) completed parts 1 - 3</i>\n",
    "\n",
    "<i>2. Jane Doe (doe105) completed parts 4 - 5</i>\n",
    "\n",
    "<i>We both reviewed the full document before submission.</i>"
   ]
  },
  {
   "cell_type": "markdown",
   "metadata": {},
   "source": [
    "tpric5 should be graded. Quinn Crockling (qdc2) completed part 4 & Gabe Price (tpric5) completed parts 1-3"
   ]
  },
  {
   "cell_type": "markdown",
   "metadata": {},
   "source": [
    "## 1. Introduction"
   ]
  },
  {
   "cell_type": "markdown",
   "metadata": {},
   "source": [
    "Dataset Introduction:\n",
    "\n",
    "In this project, we will explore the various data science positions and their subgroups to analyze salary trends. The goal is to identify which positions offer the highest salaries and understand the key factors that influence these salaries, such as qualifications, location, and experience. The dataset includes information on job titles, locations, experience levels, and salaries of employees globally, with updates reflecting data from 2024. By examining these factors, we aim to gain insights into what drives salary growth in the field of data science."
   ]
  },
  {
   "cell_type": "code",
   "execution_count": 36,
   "metadata": {},
   "outputs": [],
   "source": [
    "#Imports here\n",
    "import pandas as pd\n",
    "import numpy as np\n",
    "import seaborn as sns\n",
    "import matplotlib.pyplot as plt"
   ]
  },
  {
   "cell_type": "code",
   "execution_count": 37,
   "metadata": {},
   "outputs": [
    {
     "data": {
      "text/html": [
       "<div>\n",
       "<style scoped>\n",
       "    .dataframe tbody tr th:only-of-type {\n",
       "        vertical-align: middle;\n",
       "    }\n",
       "\n",
       "    .dataframe tbody tr th {\n",
       "        vertical-align: top;\n",
       "    }\n",
       "\n",
       "    .dataframe thead th {\n",
       "        text-align: right;\n",
       "    }\n",
       "</style>\n",
       "<table border=\"1\" class=\"dataframe\">\n",
       "  <thead>\n",
       "    <tr style=\"text-align: right;\">\n",
       "      <th></th>\n",
       "      <th>Job Title</th>\n",
       "      <th>Employment Type</th>\n",
       "      <th>Experience Level</th>\n",
       "      <th>Expertise Level</th>\n",
       "      <th>Salary</th>\n",
       "      <th>Salary Currency</th>\n",
       "      <th>Company Location</th>\n",
       "      <th>Salary in USD</th>\n",
       "      <th>Employee Residence</th>\n",
       "      <th>Company Size</th>\n",
       "      <th>Year</th>\n",
       "    </tr>\n",
       "  </thead>\n",
       "  <tbody>\n",
       "    <tr>\n",
       "      <th>0</th>\n",
       "      <td>Data Engineer</td>\n",
       "      <td>Full-Time</td>\n",
       "      <td>Mid</td>\n",
       "      <td>Intermediate</td>\n",
       "      <td>138000</td>\n",
       "      <td>United States Dollar</td>\n",
       "      <td>United States</td>\n",
       "      <td>138000</td>\n",
       "      <td>United States</td>\n",
       "      <td>Medium</td>\n",
       "      <td>2024</td>\n",
       "    </tr>\n",
       "    <tr>\n",
       "      <th>1</th>\n",
       "      <td>Data Engineer</td>\n",
       "      <td>Full-Time</td>\n",
       "      <td>Mid</td>\n",
       "      <td>Intermediate</td>\n",
       "      <td>86000</td>\n",
       "      <td>United States Dollar</td>\n",
       "      <td>United States</td>\n",
       "      <td>86000</td>\n",
       "      <td>United States</td>\n",
       "      <td>Medium</td>\n",
       "      <td>2024</td>\n",
       "    </tr>\n",
       "    <tr>\n",
       "      <th>2</th>\n",
       "      <td>Data Analyst</td>\n",
       "      <td>Full-Time</td>\n",
       "      <td>Entry</td>\n",
       "      <td>Junior</td>\n",
       "      <td>179000</td>\n",
       "      <td>United States Dollar</td>\n",
       "      <td>United States</td>\n",
       "      <td>179000</td>\n",
       "      <td>United States</td>\n",
       "      <td>Medium</td>\n",
       "      <td>2024</td>\n",
       "    </tr>\n",
       "    <tr>\n",
       "      <th>3</th>\n",
       "      <td>Data Analyst</td>\n",
       "      <td>Full-Time</td>\n",
       "      <td>Entry</td>\n",
       "      <td>Junior</td>\n",
       "      <td>112000</td>\n",
       "      <td>United States Dollar</td>\n",
       "      <td>United States</td>\n",
       "      <td>112000</td>\n",
       "      <td>United States</td>\n",
       "      <td>Medium</td>\n",
       "      <td>2024</td>\n",
       "    </tr>\n",
       "    <tr>\n",
       "      <th>4</th>\n",
       "      <td>Business Intelligence Developer</td>\n",
       "      <td>Full-Time</td>\n",
       "      <td>Mid</td>\n",
       "      <td>Intermediate</td>\n",
       "      <td>92000</td>\n",
       "      <td>United States Dollar</td>\n",
       "      <td>United States</td>\n",
       "      <td>92000</td>\n",
       "      <td>United States</td>\n",
       "      <td>Medium</td>\n",
       "      <td>2024</td>\n",
       "    </tr>\n",
       "    <tr>\n",
       "      <th>...</th>\n",
       "      <td>...</td>\n",
       "      <td>...</td>\n",
       "      <td>...</td>\n",
       "      <td>...</td>\n",
       "      <td>...</td>\n",
       "      <td>...</td>\n",
       "      <td>...</td>\n",
       "      <td>...</td>\n",
       "      <td>...</td>\n",
       "      <td>...</td>\n",
       "      <td>...</td>\n",
       "    </tr>\n",
       "    <tr>\n",
       "      <th>5731</th>\n",
       "      <td>Data Scientist</td>\n",
       "      <td>Full-Time</td>\n",
       "      <td>Senior</td>\n",
       "      <td>Expert</td>\n",
       "      <td>412000</td>\n",
       "      <td>United States Dollar</td>\n",
       "      <td>United States</td>\n",
       "      <td>412000</td>\n",
       "      <td>United States</td>\n",
       "      <td>Large</td>\n",
       "      <td>2020</td>\n",
       "    </tr>\n",
       "    <tr>\n",
       "      <th>5732</th>\n",
       "      <td>Principal Data Scientist</td>\n",
       "      <td>Full-Time</td>\n",
       "      <td>Mid</td>\n",
       "      <td>Intermediate</td>\n",
       "      <td>151000</td>\n",
       "      <td>United States Dollar</td>\n",
       "      <td>United States</td>\n",
       "      <td>151000</td>\n",
       "      <td>United States</td>\n",
       "      <td>Large</td>\n",
       "      <td>2021</td>\n",
       "    </tr>\n",
       "    <tr>\n",
       "      <th>5733</th>\n",
       "      <td>Data Scientist</td>\n",
       "      <td>Full-Time</td>\n",
       "      <td>Entry</td>\n",
       "      <td>Junior</td>\n",
       "      <td>105000</td>\n",
       "      <td>United States Dollar</td>\n",
       "      <td>United States</td>\n",
       "      <td>105000</td>\n",
       "      <td>United States</td>\n",
       "      <td>Small</td>\n",
       "      <td>2020</td>\n",
       "    </tr>\n",
       "    <tr>\n",
       "      <th>5734</th>\n",
       "      <td>Business Data Analyst</td>\n",
       "      <td>Contract</td>\n",
       "      <td>Entry</td>\n",
       "      <td>Junior</td>\n",
       "      <td>100000</td>\n",
       "      <td>United States Dollar</td>\n",
       "      <td>United States</td>\n",
       "      <td>100000</td>\n",
       "      <td>United States</td>\n",
       "      <td>Large</td>\n",
       "      <td>2020</td>\n",
       "    </tr>\n",
       "    <tr>\n",
       "      <th>5735</th>\n",
       "      <td>Data Science Manager</td>\n",
       "      <td>Full-Time</td>\n",
       "      <td>Senior</td>\n",
       "      <td>Expert</td>\n",
       "      <td>7000000</td>\n",
       "      <td>Indian Rupee</td>\n",
       "      <td>India</td>\n",
       "      <td>94665</td>\n",
       "      <td>India</td>\n",
       "      <td>Large</td>\n",
       "      <td>2021</td>\n",
       "    </tr>\n",
       "  </tbody>\n",
       "</table>\n",
       "<p>5736 rows × 11 columns</p>\n",
       "</div>"
      ],
      "text/plain": [
       "                            Job Title Employment Type Experience Level  \\\n",
       "0                       Data Engineer       Full-Time              Mid   \n",
       "1                       Data Engineer       Full-Time              Mid   \n",
       "2                        Data Analyst       Full-Time            Entry   \n",
       "3                        Data Analyst       Full-Time            Entry   \n",
       "4     Business Intelligence Developer       Full-Time              Mid   \n",
       "...                               ...             ...              ...   \n",
       "5731                   Data Scientist       Full-Time           Senior   \n",
       "5732         Principal Data Scientist       Full-Time              Mid   \n",
       "5733                   Data Scientist       Full-Time            Entry   \n",
       "5734            Business Data Analyst        Contract            Entry   \n",
       "5735             Data Science Manager       Full-Time           Senior   \n",
       "\n",
       "     Expertise Level   Salary       Salary Currency Company Location  \\\n",
       "0       Intermediate   138000  United States Dollar    United States   \n",
       "1       Intermediate    86000  United States Dollar    United States   \n",
       "2             Junior   179000  United States Dollar    United States   \n",
       "3             Junior   112000  United States Dollar    United States   \n",
       "4       Intermediate    92000  United States Dollar    United States   \n",
       "...              ...      ...                   ...              ...   \n",
       "5731          Expert   412000  United States Dollar    United States   \n",
       "5732    Intermediate   151000  United States Dollar    United States   \n",
       "5733          Junior   105000  United States Dollar    United States   \n",
       "5734          Junior   100000  United States Dollar    United States   \n",
       "5735          Expert  7000000          Indian Rupee            India   \n",
       "\n",
       "      Salary in USD Employee Residence Company Size  Year  \n",
       "0            138000      United States       Medium  2024  \n",
       "1             86000      United States       Medium  2024  \n",
       "2            179000      United States       Medium  2024  \n",
       "3            112000      United States       Medium  2024  \n",
       "4             92000      United States       Medium  2024  \n",
       "...             ...                ...          ...   ...  \n",
       "5731         412000      United States        Large  2020  \n",
       "5732         151000      United States        Large  2021  \n",
       "5733         105000      United States        Small  2020  \n",
       "5734         100000      United States        Large  2020  \n",
       "5735          94665              India        Large  2021  \n",
       "\n",
       "[5736 rows x 11 columns]"
      ]
     },
     "execution_count": 37,
     "metadata": {},
     "output_type": "execute_result"
    }
   ],
   "source": [
    "df = pd.read_csv('/Users/gabeprice/Desktop/uiuc/stat207/tpric5/project_02/v7_Latest_Data_Science_Salaries.csv')\n",
    "df"
   ]
  },
  {
   "cell_type": "markdown",
   "metadata": {},
   "source": [
    "Populations and Samples:\n",
    "\n",
    "The dataset represents a sample of the global data science workforce, not the entire population. The population of interest includes all data science professionals across various positions, locations, and experience levels. This sample provides a snapshot of individuals from different companies and regions, but it doesn't capture every employee in the field. For analysis, we could take a random sample of the dataset to ensure a manageable size while maintaining representation across the data science profession; however, we feel that the length of this dataset is an adequate sample for this project."
   ]
  },
  {
   "cell_type": "markdown",
   "metadata": {},
   "source": [
    "Research Questions:\n",
    "\n",
    "Section 2 Question - Confidence Interval:\n",
    "What proportion of data science related employees hold purely data science roles versus business data roles? What is the 95% confidence interval for the average salary difference between these two groups globally in 2024?\n",
    "\n",
    "Section 3 Question - Hypothesis Test:\n",
    "What are the average and median salaries of data science professionals in Europe and North America post-pandemic? Based on these summary statistics, does the data support the theory that data science roles in Europe offer lower average salaries than in North America after the pandemic?"
   ]
  },
  {
   "cell_type": "markdown",
   "metadata": {},
   "source": [
    "Motivation:\n",
    "\n",
    "Our section 2 is specific and will allow us to estimate the range within which the true difference in average salary lies, offering insights into the salary dynamics between these roles. Anyone who is on the fence about a role to apply for or a concentration to focus on would like to see this result to know how much more they may be making applying for a certain role in that field.\n",
    "\n",
    "Our section 3 question focuses on post-pandemic salary trends and regional differences, which is timely and relevant. We can use a two-sample t-test or a similar statistical test to determine if there is a significant difference. Someone could use the result to this test if curious about the international handling of data science professionals after the pandemic, which is a much more time relevant data.\n"
   ]
  },
  {
   "cell_type": "markdown",
   "metadata": {},
   "source": [
    "## 2. Confidence Interval Analytical Tasks"
   ]
  },
  {
   "cell_type": "markdown",
   "metadata": {},
   "source": [
    "Research Question: \n",
    "What proportion of data science related employees hold purely data science roles versus business data roles? What is the 95% confidence interval for the average salary difference between these two groups globally in 2024?"
   ]
  },
  {
   "cell_type": "markdown",
   "metadata": {},
   "source": [
    "Dataset Cleaning:"
   ]
  },
  {
   "cell_type": "code",
   "execution_count": 38,
   "metadata": {},
   "outputs": [
    {
     "data": {
      "text/html": [
       "<div>\n",
       "<style scoped>\n",
       "    .dataframe tbody tr th:only-of-type {\n",
       "        vertical-align: middle;\n",
       "    }\n",
       "\n",
       "    .dataframe tbody tr th {\n",
       "        vertical-align: top;\n",
       "    }\n",
       "\n",
       "    .dataframe thead th {\n",
       "        text-align: right;\n",
       "    }\n",
       "</style>\n",
       "<table border=\"1\" class=\"dataframe\">\n",
       "  <thead>\n",
       "    <tr style=\"text-align: right;\">\n",
       "      <th></th>\n",
       "      <th>Job Title</th>\n",
       "      <th>Employment Type</th>\n",
       "      <th>Experience Level</th>\n",
       "      <th>Expertise Level</th>\n",
       "      <th>Salary</th>\n",
       "      <th>Salary Currency</th>\n",
       "      <th>Company Location</th>\n",
       "      <th>Salary in USD</th>\n",
       "      <th>Employee Residence</th>\n",
       "      <th>Company Size</th>\n",
       "      <th>Year</th>\n",
       "    </tr>\n",
       "  </thead>\n",
       "  <tbody>\n",
       "    <tr>\n",
       "      <th>0</th>\n",
       "      <td>Data Engineer</td>\n",
       "      <td>Full-Time</td>\n",
       "      <td>Mid</td>\n",
       "      <td>Intermediate</td>\n",
       "      <td>138000</td>\n",
       "      <td>United States Dollar</td>\n",
       "      <td>United States</td>\n",
       "      <td>138000</td>\n",
       "      <td>United States</td>\n",
       "      <td>Medium</td>\n",
       "      <td>2024</td>\n",
       "    </tr>\n",
       "    <tr>\n",
       "      <th>1</th>\n",
       "      <td>Data Engineer</td>\n",
       "      <td>Full-Time</td>\n",
       "      <td>Mid</td>\n",
       "      <td>Intermediate</td>\n",
       "      <td>86000</td>\n",
       "      <td>United States Dollar</td>\n",
       "      <td>United States</td>\n",
       "      <td>86000</td>\n",
       "      <td>United States</td>\n",
       "      <td>Medium</td>\n",
       "      <td>2024</td>\n",
       "    </tr>\n",
       "    <tr>\n",
       "      <th>2</th>\n",
       "      <td>Data Analyst</td>\n",
       "      <td>Full-Time</td>\n",
       "      <td>Entry</td>\n",
       "      <td>Junior</td>\n",
       "      <td>179000</td>\n",
       "      <td>United States Dollar</td>\n",
       "      <td>United States</td>\n",
       "      <td>179000</td>\n",
       "      <td>United States</td>\n",
       "      <td>Medium</td>\n",
       "      <td>2024</td>\n",
       "    </tr>\n",
       "    <tr>\n",
       "      <th>3</th>\n",
       "      <td>Data Analyst</td>\n",
       "      <td>Full-Time</td>\n",
       "      <td>Entry</td>\n",
       "      <td>Junior</td>\n",
       "      <td>112000</td>\n",
       "      <td>United States Dollar</td>\n",
       "      <td>United States</td>\n",
       "      <td>112000</td>\n",
       "      <td>United States</td>\n",
       "      <td>Medium</td>\n",
       "      <td>2024</td>\n",
       "    </tr>\n",
       "    <tr>\n",
       "      <th>4</th>\n",
       "      <td>Business Intelligence Developer</td>\n",
       "      <td>Full-Time</td>\n",
       "      <td>Mid</td>\n",
       "      <td>Intermediate</td>\n",
       "      <td>92000</td>\n",
       "      <td>United States Dollar</td>\n",
       "      <td>United States</td>\n",
       "      <td>92000</td>\n",
       "      <td>United States</td>\n",
       "      <td>Medium</td>\n",
       "      <td>2024</td>\n",
       "    </tr>\n",
       "  </tbody>\n",
       "</table>\n",
       "</div>"
      ],
      "text/plain": [
       "                         Job Title Employment Type Experience Level  \\\n",
       "0                    Data Engineer       Full-Time              Mid   \n",
       "1                    Data Engineer       Full-Time              Mid   \n",
       "2                     Data Analyst       Full-Time            Entry   \n",
       "3                     Data Analyst       Full-Time            Entry   \n",
       "4  Business Intelligence Developer       Full-Time              Mid   \n",
       "\n",
       "  Expertise Level  Salary       Salary Currency Company Location  \\\n",
       "0    Intermediate  138000  United States Dollar    United States   \n",
       "1    Intermediate   86000  United States Dollar    United States   \n",
       "2          Junior  179000  United States Dollar    United States   \n",
       "3          Junior  112000  United States Dollar    United States   \n",
       "4    Intermediate   92000  United States Dollar    United States   \n",
       "\n",
       "   Salary in USD Employee Residence Company Size  Year  \n",
       "0         138000      United States       Medium  2024  \n",
       "1          86000      United States       Medium  2024  \n",
       "2         179000      United States       Medium  2024  \n",
       "3         112000      United States       Medium  2024  \n",
       "4          92000      United States       Medium  2024  "
      ]
     },
     "execution_count": 38,
     "metadata": {},
     "output_type": "execute_result"
    }
   ],
   "source": [
    "df.head()"
   ]
  },
  {
   "cell_type": "code",
   "execution_count": 39,
   "metadata": {},
   "outputs": [
    {
     "data": {
      "text/plain": [
       "Job Title             0\n",
       "Employment Type       0\n",
       "Experience Level      0\n",
       "Expertise Level       0\n",
       "Salary                0\n",
       "Salary Currency       0\n",
       "Company Location      0\n",
       "Salary in USD         0\n",
       "Employee Residence    0\n",
       "Company Size          0\n",
       "Year                  0\n",
       "dtype: int64"
      ]
     },
     "execution_count": 39,
     "metadata": {},
     "output_type": "execute_result"
    }
   ],
   "source": [
    "df.isna().sum()"
   ]
  },
  {
   "cell_type": "code",
   "execution_count": 40,
   "metadata": {},
   "outputs": [
    {
     "data": {
      "text/plain": [
       "array(['Data Engineer', 'Data Analyst', 'Business Intelligence Developer',\n",
       "       'BI Developer', 'Business Intelligence Analyst', 'Data Developer',\n",
       "       'AI Architect', 'Data Architect', 'Data Scientist',\n",
       "       'Machine Learning Engineer', 'Data Science', 'Research Engineer',\n",
       "       'Data Science Manager', 'Data Analytics Manager',\n",
       "       'Research Analyst', 'AI Engineer', 'Research Scientist',\n",
       "       'Data Science Engineer', 'Data Product Manager',\n",
       "       'Analytics Engineer', 'Data Specialist', 'Data Modeler',\n",
       "       'ETL Developer', 'Data Strategist', 'Prompt Engineer',\n",
       "       'Data Science Lead', 'ML Engineer', 'Data Quality Manager',\n",
       "       'Applied Scientist', 'Head of Data',\n",
       "       'Business Intelligence Engineer', 'Data Science Consultant',\n",
       "       'Machine Learning Scientist', 'Business Intelligence Manager',\n",
       "       'Data Manager', 'Computer Vision Engineer', 'AI Product Manager',\n",
       "       'Data Analytics Lead', 'Director of Data Science',\n",
       "       'Data Product Owner', 'Machine Learning Infrastructure Engineer',\n",
       "       'Data Lead', 'Data Integration Engineer',\n",
       "       'Data Management Analyst', 'Data Visualization Specialist',\n",
       "       'BI Analyst', 'Business Data Analyst',\n",
       "       'Machine Learning Operations Engineer', 'Data Analyst Lead',\n",
       "       'NLP Engineer', 'MLOps Engineer', 'Marketing Data Scientist',\n",
       "       'AI Scientist', 'Insight Analyst', 'Data DevOps Engineer',\n",
       "       'Machine Learning Researcher', 'Data Quality Analyst',\n",
       "       'Deep Learning Engineer', 'AI Developer', 'Data Science Director',\n",
       "       'Machine Learning Modeler', 'BI Data Analyst',\n",
       "       'Data Integration Specialist', 'Data Science Practitioner',\n",
       "       'AI Research Engineer', 'Data Management Specialist',\n",
       "       'Business Intelligence Specialist', 'Data Quality Engineer',\n",
       "       'AI Programmer', 'Decision Scientist', 'Financial Data Analyst',\n",
       "       'Data Strategy Manager', 'Data Visualization Engineer',\n",
       "       'Azure Data Engineer', 'Principal Data Scientist',\n",
       "       'Staff Data Analyst', 'Data Infrastructure Engineer',\n",
       "       'Machine Learning Software Engineer', 'Head of Machine Learning',\n",
       "       'Applied Data Scientist', 'Data Operations Analyst',\n",
       "       'Applied Machine Learning Scientist', 'Data Operations Engineer',\n",
       "       'Machine Learning Manager', 'Lead Data Scientist',\n",
       "       'Principal Machine Learning Engineer', 'Principal Data Engineer',\n",
       "       'Power BI Developer', 'Head of Data Science',\n",
       "       'Staff Machine Learning Engineer', 'Staff Data Scientist',\n",
       "       'Consultant Data Engineer', 'Machine Learning Specialist',\n",
       "       'Business Intelligence Data Analyst', 'Data Operations Manager',\n",
       "       'Lead Machine Learning Engineer', 'Managing Director Data Science',\n",
       "       'Data Modeller', 'Finance Data Analyst', 'Software Data Engineer',\n",
       "       'Machine Learning Research Engineer', 'Compliance Data Analyst',\n",
       "       'Data Operations Specialist', 'Cloud Data Engineer',\n",
       "       'Analytics Engineering Manager', 'AWS Data Architect',\n",
       "       'Product Data Analyst', 'Machine Learning Developer',\n",
       "       'Data Visualization Analyst', 'Autonomous Vehicle Technician',\n",
       "       'Sales Data Analyst', 'Applied Machine Learning Engineer',\n",
       "       'ETL Engineer', 'Big Data Engineer', 'Lead Data Analyst',\n",
       "       'BI Data Engineer', 'Cloud Database Engineer',\n",
       "       'Deep Learning Researcher', 'Data Analytics Specialist',\n",
       "       'Big Data Architect', 'Computer Vision Software Engineer',\n",
       "       'Marketing Data Engineer', 'Manager Data Management',\n",
       "       'Data Analytics Consultant', 'Data Science Tech Lead',\n",
       "       'Data Scientist Lead', 'Marketing Data Analyst',\n",
       "       'Principal Data Architect', 'Data Analytics Engineer',\n",
       "       'Cloud Data Architect', 'Lead Data Engineer',\n",
       "       'Principal Data Analyst'], dtype=object)"
      ]
     },
     "execution_count": 40,
     "metadata": {},
     "output_type": "execute_result"
    }
   ],
   "source": [
    "df[\"Job Title\"].unique()"
   ]
  },
  {
   "cell_type": "code",
   "execution_count": 41,
   "metadata": {},
   "outputs": [],
   "source": [
    "df_2024 = df[df[\"Year\"] == 2024]"
   ]
  },
  {
   "cell_type": "code",
   "execution_count": 42,
   "metadata": {},
   "outputs": [],
   "source": [
    "df_datascientist = df_2024[df_2024[\"Job Title\"].str.contains(\"data\", case=False, na=False) & ~df_2024[\"Job Title\"].str.contains(\"business|marketing|BI\", case=False, na=False)]"
   ]
  },
  {
   "cell_type": "code",
   "execution_count": 43,
   "metadata": {},
   "outputs": [],
   "source": [
    "df_businessanalyst = df_2024[df_2024[\"Job Title\"].str.contains(\"business|marketing|BI\", case=False, na=False)]"
   ]
  },
  {
   "cell_type": "markdown",
   "metadata": {},
   "source": [
    "Descriptive Analytics:"
   ]
  },
  {
   "cell_type": "code",
   "execution_count": 44,
   "metadata": {},
   "outputs": [
    {
     "name": "stdout",
     "output_type": "stream",
     "text": [
      "The sample size of the business data dataframe is 14\n",
      "The sample size of the pure data dataframe is 142\n"
     ]
    }
   ],
   "source": [
    "print(f\"The sample size of the business data dataframe is {len(df_businessanalyst)}\")\n",
    "print(f\"The sample size of the pure data dataframe is {len(df_datascientist)}\")"
   ]
  },
  {
   "cell_type": "code",
   "execution_count": 45,
   "metadata": {},
   "outputs": [
    {
     "name": "stdout",
     "output_type": "stream",
     "text": [
      "Descriptive Analysis for Pure Data Scientists:\n",
      " count       142.000000\n",
      "mean     137117.978873\n",
      "std       59618.091921\n",
      "min       30000.000000\n",
      "25%       90675.000000\n",
      "50%      131600.000000\n",
      "75%      170000.000000\n",
      "max      324000.000000\n",
      "Name: Salary in USD, dtype: float64\n",
      "\n",
      "\n",
      "Descriptive Analysis for Business Analysts:\n",
      " count        14.000000\n",
      "mean      95804.714286\n",
      "std       25639.537853\n",
      "min       62100.000000\n",
      "25%       77225.000000\n",
      "50%       88900.000000\n",
      "75%      116207.000000\n",
      "max      144138.000000\n",
      "Name: Salary in USD, dtype: float64\n"
     ]
    }
   ],
   "source": [
    "print(f\"Descriptive Analysis for Pure Data Scientists:\\n\" ,df_datascientist[\"Salary in USD\"].describe())\n",
    "print(\"\\n\")\n",
    "print(f\"Descriptive Analysis for Business Analysts:\\n\" ,df_businessanalyst[\"Salary in USD\"].describe())"
   ]
  },
  {
   "cell_type": "code",
   "execution_count": 46,
   "metadata": {},
   "outputs": [
    {
     "data": {
      "text/html": [
       "<div>\n",
       "<style scoped>\n",
       "    .dataframe tbody tr th:only-of-type {\n",
       "        vertical-align: middle;\n",
       "    }\n",
       "\n",
       "    .dataframe tbody tr th {\n",
       "        vertical-align: top;\n",
       "    }\n",
       "\n",
       "    .dataframe thead th {\n",
       "        text-align: right;\n",
       "    }\n",
       "</style>\n",
       "<table border=\"1\" class=\"dataframe\">\n",
       "  <thead>\n",
       "    <tr style=\"text-align: right;\">\n",
       "      <th></th>\n",
       "      <th>Job Title</th>\n",
       "      <th>Employment Type</th>\n",
       "      <th>Experience Level</th>\n",
       "      <th>Expertise Level</th>\n",
       "      <th>Salary</th>\n",
       "      <th>Salary Currency</th>\n",
       "      <th>Company Location</th>\n",
       "      <th>Salary in USD</th>\n",
       "      <th>Employee Residence</th>\n",
       "      <th>Company Size</th>\n",
       "      <th>Year</th>\n",
       "    </tr>\n",
       "  </thead>\n",
       "  <tbody>\n",
       "    <tr>\n",
       "      <th>72</th>\n",
       "      <td>Data Scientist</td>\n",
       "      <td>Full-Time</td>\n",
       "      <td>Senior</td>\n",
       "      <td>Expert</td>\n",
       "      <td>324000</td>\n",
       "      <td>United States Dollar</td>\n",
       "      <td>United States</td>\n",
       "      <td>324000</td>\n",
       "      <td>United States</td>\n",
       "      <td>Medium</td>\n",
       "      <td>2024</td>\n",
       "    </tr>\n",
       "  </tbody>\n",
       "</table>\n",
       "</div>"
      ],
      "text/plain": [
       "         Job Title Employment Type Experience Level Expertise Level  Salary  \\\n",
       "72  Data Scientist       Full-Time           Senior          Expert  324000   \n",
       "\n",
       "         Salary Currency Company Location  Salary in USD Employee Residence  \\\n",
       "72  United States Dollar    United States         324000      United States   \n",
       "\n",
       "   Company Size  Year  \n",
       "72       Medium  2024  "
      ]
     },
     "execution_count": 46,
     "metadata": {},
     "output_type": "execute_result"
    }
   ],
   "source": [
    "df_datascientist[df_datascientist[\"Salary in USD\"] == df_datascientist[\"Salary in USD\"].max()]"
   ]
  },
  {
   "cell_type": "code",
   "execution_count": 47,
   "metadata": {},
   "outputs": [
    {
     "data": {
      "image/png": "[encoded data removed]",
      "text/plain": [
       "<Figure size 1000x500 with 2 Axes>"
      ]
     },
     "metadata": {},
     "output_type": "display_data"
    }
   ],
   "source": [
    "fig, axes = plt.subplots(nrows=1, ncols=2, figsize=(10, 5))\n",
    "df_businessanalyst[\"Salary in USD\"].plot.box(ax=axes[0], title=\"Business Data Salary\")\n",
    "df_datascientist[\"Salary in USD\"].plot.box(ax=axes[1], title=\"Pure Data Salary\")\n",
    "plt.tight_layout()\n",
    "plt.show()"
   ]
  },
  {
   "cell_type": "code",
   "execution_count": 48,
   "metadata": {},
   "outputs": [
    {
     "data": {
      "text/plain": [
       "<Axes: ylabel='Frequency'>"
      ]
     },
     "execution_count": 48,
     "metadata": {},
     "output_type": "execute_result"
    },
    {
     "data": {
      "image/png": "[encoded data removed]",
      "text/plain": [
       "<Figure size 640x480 with 1 Axes>"
      ]
     },
     "metadata": {},
     "output_type": "display_data"
    }
   ],
   "source": [
    "df_datascientist[\"Salary in USD\"].plot.hist()"
   ]
  },
  {
   "cell_type": "code",
   "execution_count": 49,
   "metadata": {},
   "outputs": [
    {
     "data": {
      "text/plain": [
       "<Axes: ylabel='Frequency'>"
      ]
     },
     "execution_count": 49,
     "metadata": {},
     "output_type": "execute_result"
    },
    {
     "data": {
      "image/png": "[encoded data removed]",
      "text/plain": [
       "<Figure size 640x480 with 1 Axes>"
      ]
     },
     "metadata": {},
     "output_type": "display_data"
    }
   ],
   "source": [
    "df_businessanalyst[\"Salary in USD\"].plot.hist()"
   ]
  },
  {
   "cell_type": "markdown",
   "metadata": {},
   "source": [
    "The dataset contains 142 salary observations for pure data scientists, with a mean salary of 137,118 USD and a median of 131,600 USD, suggesting a moderate skew towards higher salaries. Salaries range from 30,000 USD to 324,000 USD, with a standard deviation of 59,618 USD, indicating notable variability. For business analysts, the dataset includes 14 observations, with a mean salary of 95,805 USD and a median of 88,900 USD. The salary range for business analysts spans from 62,100 USD to 144,138 USD, with a standard deviation of 25,639 USD, reflecting less variability compared to data scientists."
   ]
  },
  {
   "cell_type": "markdown",
   "metadata": {},
   "source": [
    "First, we will answer the first part of our research question: What proportion of data science related employees hold purely data science roles versus business data roles?"
   ]
  },
  {
   "cell_type": "code",
   "execution_count": 50,
   "metadata": {},
   "outputs": [
    {
     "name": "stdout",
     "output_type": "stream",
     "text": [
      "The proportion of employees in purely data science roles is 0.0248, while those in business data roles account for 0.0024.\n"
     ]
    }
   ],
   "source": [
    "business_proportion = len(df_businessanalyst)/len(df)\n",
    "data_proportion = len(df_datascientist)/len(df)\n",
    "\n",
    "print(f\"The proportion of employees in purely data science roles is {round(data_proportion,4)}, while those in business data roles account for {round(business_proportion,4)}.\")"
   ]
  },
  {
   "cell_type": "markdown",
   "metadata": {},
   "source": [
    "Confidence Interval:\n",
    "\n",
    "Now that we have calculated and solved our research question, I will be calculating a 95% confidence interval with a significance level of 𝛼 = 0.05."
   ]
  },
  {
   "cell_type": "code",
   "execution_count": 51,
   "metadata": {},
   "outputs": [
    {
     "data": {
      "text/html": [
       "<div>\n",
       "<style scoped>\n",
       "    .dataframe tbody tr th:only-of-type {\n",
       "        vertical-align: middle;\n",
       "    }\n",
       "\n",
       "    .dataframe tbody tr th {\n",
       "        vertical-align: top;\n",
       "    }\n",
       "\n",
       "    .dataframe thead th {\n",
       "        text-align: right;\n",
       "    }\n",
       "</style>\n",
       "<table border=\"1\" class=\"dataframe\">\n",
       "  <thead>\n",
       "    <tr style=\"text-align: right;\">\n",
       "      <th></th>\n",
       "      <th>Salary Difference</th>\n",
       "    </tr>\n",
       "  </thead>\n",
       "  <tbody>\n",
       "    <tr>\n",
       "      <th>0</th>\n",
       "      <td>51677.45</td>\n",
       "    </tr>\n",
       "    <tr>\n",
       "      <th>1</th>\n",
       "      <td>26202.02</td>\n",
       "    </tr>\n",
       "    <tr>\n",
       "      <th>2</th>\n",
       "      <td>34030.23</td>\n",
       "    </tr>\n",
       "    <tr>\n",
       "      <th>3</th>\n",
       "      <td>42348.60</td>\n",
       "    </tr>\n",
       "    <tr>\n",
       "      <th>4</th>\n",
       "      <td>45122.89</td>\n",
       "    </tr>\n",
       "  </tbody>\n",
       "</table>\n",
       "</div>"
      ],
      "text/plain": [
       "   Salary Difference\n",
       "0           51677.45\n",
       "1           26202.02\n",
       "2           34030.23\n",
       "3           42348.60\n",
       "4           45122.89"
      ]
     },
     "execution_count": 51,
     "metadata": {},
     "output_type": "execute_result"
    }
   ],
   "source": [
    "salary_differences = []\n",
    "\n",
    "for i in range(10000):\n",
    "    sample_data_scientist = df_datascientist[\"Salary in USD\"].sample(frac=1, replace=True)\n",
    "    sample_business_analyst = df_businessanalyst[\"Salary in USD\"].sample(frac=1, replace=True)\n",
    "    \n",
    "    mean_diff = abs(sample_data_scientist.mean() - sample_business_analyst.mean())\n",
    "    \n",
    "    salary_differences.append(mean_diff)\n",
    "\n",
    "salary_differences = pd.DataFrame({'Salary Difference': salary_differences})\n",
    "\n",
    "round(salary_differences.head(),2)\n"
   ]
  },
  {
   "cell_type": "code",
   "execution_count": 52,
   "metadata": {},
   "outputs": [
    {
     "data": {
      "text/html": [
       "<div>\n",
       "<style scoped>\n",
       "    .dataframe tbody tr th:only-of-type {\n",
       "        vertical-align: middle;\n",
       "    }\n",
       "\n",
       "    .dataframe tbody tr th {\n",
       "        vertical-align: top;\n",
       "    }\n",
       "\n",
       "    .dataframe thead th {\n",
       "        text-align: right;\n",
       "    }\n",
       "</style>\n",
       "<table border=\"1\" class=\"dataframe\">\n",
       "  <thead>\n",
       "    <tr style=\"text-align: right;\">\n",
       "      <th></th>\n",
       "      <th>Salary Difference</th>\n",
       "    </tr>\n",
       "  </thead>\n",
       "  <tbody>\n",
       "    <tr>\n",
       "      <th>count</th>\n",
       "      <td>10000.00</td>\n",
       "    </tr>\n",
       "    <tr>\n",
       "      <th>mean</th>\n",
       "      <td>41176.88</td>\n",
       "    </tr>\n",
       "    <tr>\n",
       "      <th>std</th>\n",
       "      <td>8336.05</td>\n",
       "    </tr>\n",
       "    <tr>\n",
       "      <th>min</th>\n",
       "      <td>10065.15</td>\n",
       "    </tr>\n",
       "    <tr>\n",
       "      <th>25%</th>\n",
       "      <td>35601.90</td>\n",
       "    </tr>\n",
       "    <tr>\n",
       "      <th>50%</th>\n",
       "      <td>41228.69</td>\n",
       "    </tr>\n",
       "    <tr>\n",
       "      <th>75%</th>\n",
       "      <td>46963.74</td>\n",
       "    </tr>\n",
       "    <tr>\n",
       "      <th>max</th>\n",
       "      <td>70048.64</td>\n",
       "    </tr>\n",
       "  </tbody>\n",
       "</table>\n",
       "</div>"
      ],
      "text/plain": [
       "       Salary Difference\n",
       "count           10000.00\n",
       "mean            41176.88\n",
       "std              8336.05\n",
       "min             10065.15\n",
       "25%             35601.90\n",
       "50%             41228.69\n",
       "75%             46963.74\n",
       "max             70048.64"
      ]
     },
     "execution_count": 52,
     "metadata": {},
     "output_type": "execute_result"
    }
   ],
   "source": [
    "round(salary_differences.describe(),2)"
   ]
  },
  {
   "cell_type": "code",
   "execution_count": 53,
   "metadata": {},
   "outputs": [
    {
     "data": {
      "image/png": "[encoded data removed]",
      "text/plain": [
       "<Figure size 640x480 with 1 Axes>"
      ]
     },
     "metadata": {},
     "output_type": "display_data"
    }
   ],
   "source": [
    "salary_differences.hist()\n",
    "plt.xlabel('Simulated Salary Differences (Data Science vs Business Roles)')\n",
    "plt.ylabel('Frequency')\n",
    "plt.title('Simulated Sampling Distribution of Salary Differences')\n",
    "plt.show()"
   ]
  },
  {
   "cell_type": "code",
   "execution_count": 54,
   "metadata": {},
   "outputs": [
    {
     "data": {
      "image/png": "[encoded data removed]",
      "text/plain": [
       "<Figure size 640x480 with 1 Axes>"
      ]
     },
     "metadata": {},
     "output_type": "display_data"
    }
   ],
   "source": [
    "salary_differences.plot.box()\n",
    "plt.ylabel('Values')\n",
    "plt.title('Box Plot of Simulated Salary Differences')\n",
    "plt.show()\n"
   ]
  },
  {
   "cell_type": "code",
   "execution_count": 55,
   "metadata": {},
   "outputs": [
    {
     "name": "stdout",
     "output_type": "stream",
     "text": [
      "95% Confidence Interval: (24645.37, 57166.0)\n"
     ]
    }
   ],
   "source": [
    "lower_bound = round(salary_differences['Salary Difference'].quantile(0.025), 2)\n",
    "upper_bound = round(salary_differences['Salary Difference'].quantile(0.975), 2)\n",
    "\n",
    "print(f\"95% Confidence Interval: ({lower_bound}, {upper_bound})\")"
   ]
  },
  {
   "cell_type": "markdown",
   "metadata": {},
   "source": [
    "Interpret the Confidence Interval:\n",
    "\n",
    "We are 95% confident that the true average salary difference between pure data science roles and business data roles lies between 24645.37 USD and 57166.00 USD. This means that if we repeated this analysis using different random samples, about 95% of the resulting confidence intervals would capture the true salary difference."
   ]
  },
  {
   "cell_type": "markdown",
   "metadata": {},
   "source": [
    "## 3. Hypothesis Testing Analytical Tasks"
   ]
  },
  {
   "cell_type": "markdown",
   "metadata": {},
   "source": [
    "Research Question:\n",
    "\n",
    "What are the average and median salaries of data science professionals in Europe and North America post-pandemic? Based on these summary statistics, does the data support the theory that data science roles in Europe offer lower average salaries than in North America after the pandemic?"
   ]
  },
  {
   "cell_type": "markdown",
   "metadata": {},
   "source": [
    "Dataset Cleaning:"
   ]
  },
  {
   "cell_type": "code",
   "execution_count": 56,
   "metadata": {},
   "outputs": [
    {
     "data": {
      "text/plain": [
       "array(['United States', 'Canada', 'United Kingdom', 'Portugal', 'Ireland',\n",
       "       'Germany', 'South Africa', 'Australia', 'New Zealand', 'Hungary',\n",
       "       'India', 'Spain', 'Viet Nam', 'Nigeria', 'Philippines', 'Poland',\n",
       "       'France', 'Netherlands', 'Luxembourg', 'Lithuania', 'Gibraltar',\n",
       "       'Colombia', 'Ukraine', 'Slovenia', 'Romania', 'Greece', 'Latvia',\n",
       "       'Mauritius', 'Russian Federation', 'Italy', 'Korea, Republic of',\n",
       "       'Estonia', 'Czechia', 'Switzerland', 'Brazil', 'Qatar', 'Kenya',\n",
       "       'Denmark', 'Ghana', 'Sweden', 'Turkey', 'Andorra', 'Ecuador',\n",
       "       'Mexico', 'Israel', 'Saudi Arabia', 'Norway', 'Argentina', 'Japan',\n",
       "       'Hong Kong', 'Central African Republic', 'Finland', 'Singapore',\n",
       "       'Thailand', 'Croatia', 'Armenia', 'Bosnia and Herzegovina',\n",
       "       'Pakistan', 'Iran, Islamic Republic of', 'Bahamas', 'Austria',\n",
       "       'Puerto Rico', 'American Samoa', 'Belgium', 'Indonesia', 'Egypt',\n",
       "       'United Arab Emirates', 'Malaysia', 'Honduras', 'Algeria', 'Iraq',\n",
       "       'China', 'Chile', 'Moldova, Republic of', 'Malta'], dtype=object)"
      ]
     },
     "execution_count": 56,
     "metadata": {},
     "output_type": "execute_result"
    }
   ],
   "source": [
    "df[\"Company Location\"].unique()"
   ]
  },
  {
   "cell_type": "code",
   "execution_count": 57,
   "metadata": {},
   "outputs": [],
   "source": [
    "# List of European countries\n",
    "european_countries = [\n",
    "    'United Kingdom', 'Portugal', 'Ireland', 'Germany', 'Spain', 'Hungary', \n",
    "    'France', 'Netherlands', 'Luxembourg', 'Lithuania', 'Gibraltar', 'Ukraine',\n",
    "    'Slovenia', 'Romania', 'Greece', 'Latvia', 'Russian Federation', 'Italy', \n",
    "    'Estonia', 'Czechia', 'Switzerland', 'Denmark', 'Sweden', 'Turkey', \n",
    "    'Andorra', 'Finland', 'Croatia', 'Bosnia and Herzegovina', 'Poland',\n",
    "    'Armenia', 'Austria', 'Belgium', 'Malta', 'Moldova, Republic of'\n",
    "]\n",
    "\n",
    "# List of North American countries\n",
    "north_american_countries = [\n",
    "    'United States', 'Canada', 'Mexico', 'Puerto Rico', 'Bahamas', 'American Samoa',\n",
    "    'Honduras'\n",
    "]\n"
   ]
  },
  {
   "cell_type": "code",
   "execution_count": 58,
   "metadata": {},
   "outputs": [],
   "source": [
    "df_europe = df[(df[\"Company Location\"].isin(european_countries)) & (df[\"Year\"] >= 2022)]\n",
    "\n",
    "df_northamerica = df[df[\"Company Location\"].isin(north_american_countries) & (df[\"Year\"] >= 2022)]"
   ]
  },
  {
   "cell_type": "markdown",
   "metadata": {},
   "source": [
    "Descriptive Analytics:"
   ]
  },
  {
   "cell_type": "code",
   "execution_count": 59,
   "metadata": {},
   "outputs": [
    {
     "name": "stdout",
     "output_type": "stream",
     "text": [
      "count       644.00\n",
      "mean      91352.32\n",
      "std       59347.04\n",
      "min       16455.00\n",
      "25%       51676.00\n",
      "50%       74960.50\n",
      "75%      110736.00\n",
      "max      430967.00\n",
      "Name: Salary in USD, dtype: float64\n",
      "\n",
      "\n",
      "count      4653.00\n",
      "mean     156549.76\n",
      "std       66377.33\n",
      "min       20000.00\n",
      "25%      110000.00\n",
      "50%      147800.00\n",
      "75%      193750.00\n",
      "max      750000.00\n",
      "Name: Salary in USD, dtype: float64\n"
     ]
    }
   ],
   "source": [
    "print(round(df_europe[\"Salary in USD\"].describe(),2))\n",
    "print(\"\\n\")\n",
    "print(round(df_northamerica[\"Salary in USD\"].describe(),2))"
   ]
  },
  {
   "cell_type": "code",
   "execution_count": 60,
   "metadata": {},
   "outputs": [
    {
     "data": {
      "image/png": "[encoded data removed]",
      "text/plain": [
       "<Figure size 1000x500 with 2 Axes>"
      ]
     },
     "metadata": {},
     "output_type": "display_data"
    }
   ],
   "source": [
    "fig, axes = plt.subplots(nrows=1, ncols=2, figsize=(10, 5))\n",
    "\n",
    "df_europe[\"Salary in USD\"].plot.box(ax=axes[0])\n",
    "axes[0].set_title(\"European Salary Distribution\")\n",
    "axes[0].set_ylabel(\"Salary in USD\")\n",
    "\n",
    "df_northamerica[\"Salary in USD\"].plot.box(ax=axes[1])\n",
    "axes[1].set_title(\"North American Salary Distribution\")\n",
    "axes[1].set_ylabel(\"Salary in USD\")\n",
    "\n",
    "plt.tight_layout()\n",
    "plt.show()\n"
   ]
  },
  {
   "cell_type": "markdown",
   "metadata": {},
   "source": [
    "Based on the post-pandemic salary data for data science professionals, the average salary in Europe is $91,352.32, with a median of $74,960.50. In North America, the average salary is significantly higher at $156,549.76, with a median of $147,800.00. The box plots further illustrate these differences, showing that North America not only has a higher median salary but also a wider range of salaries, with multiple outliers above $300,000 and some nearing $700,000. In contrast, the majority of European salaries are below $200,000 with fewer outliers. These results suggest that North American data science professionals earn significantly more than their European counterparts, both in terms of average and median salaries, and North America also offers more high-paying roles."
   ]
  },
  {
   "cell_type": "markdown",
   "metadata": {},
   "source": [
    "\n",
    "The most appropriate measure of center for the salary data is the median because it provides a better representation of the typical salary, especially in the presence of outliers. In both Europe and North America, the median salary is less influenced by the extreme high salaries seen in the data, making it a more reliable measure of central tendency than the mean. Therefore, for both regions, the median gives a clearer picture of what most data science professionals are earning post-pandemic."
   ]
  },
  {
   "cell_type": "markdown",
   "metadata": {},
   "source": [
    "Hypothesis Test:\n",
    "\n",
    "Ho: The average salary of data science professionals in Europe is equal to the average salary of data science professionals in North America\n",
    "\n",
    "Ha: The average salary of data science professionals in Europe is not equal to the average salary of data science professionals in North America\n",
    "\n",
    "α = 0.01"
   ]
  },
  {
   "cell_type": "code",
   "execution_count": 61,
   "metadata": {},
   "outputs": [
    {
     "name": "stdout",
     "output_type": "stream",
     "text": [
      "Europe Normality Test p-value: 3.6974183305350105e-26\n",
      "North America Normality Test p-value: 6.304133875330098e-42\n"
     ]
    }
   ],
   "source": [
    "from scipy.stats import shapiro\n",
    "\n",
    "stat, p_value = shapiro(df_europe['Salary in USD'])\n",
    "print('Europe Normality Test p-value:', p_value)\n",
    "\n",
    "stat, p_value = shapiro(df_northamerica['Salary in USD'])\n",
    "print('North America Normality Test p-value:', p_value)\n"
   ]
  },
  {
   "cell_type": "code",
   "execution_count": 62,
   "metadata": {},
   "outputs": [
    {
     "name": "stdout",
     "output_type": "stream",
     "text": [
      "Levene’s Test p-value: 7.265146352769146e-08\n"
     ]
    }
   ],
   "source": [
    "from scipy.stats import levene\n",
    "\n",
    "stat, p_value = levene(df_europe['Salary in USD'], df_northamerica['Salary in USD'])\n",
    "print('Levene’s Test p-value:', p_value)\n"
   ]
  },
  {
   "cell_type": "markdown",
   "metadata": {},
   "source": [
    "Based on the results of the Shapiro-Wilk test and Levene's test, we conclude that the distributions of both dataframes are not normal and their variances are unequal. As a result, we will run a simulation to improve the accuracy of the hypothesis test and avoid assumptions of normality and equal variances."
   ]
  },
  {
   "cell_type": "code",
   "execution_count": 63,
   "metadata": {},
   "outputs": [
    {
     "data": {
      "text/html": [
       "<div>\n",
       "<style scoped>\n",
       "    .dataframe tbody tr th:only-of-type {\n",
       "        vertical-align: middle;\n",
       "    }\n",
       "\n",
       "    .dataframe tbody tr th {\n",
       "        vertical-align: top;\n",
       "    }\n",
       "\n",
       "    .dataframe thead th {\n",
       "        text-align: right;\n",
       "    }\n",
       "</style>\n",
       "<table border=\"1\" class=\"dataframe\">\n",
       "  <thead>\n",
       "    <tr style=\"text-align: right;\">\n",
       "      <th></th>\n",
       "      <th>Salary Difference</th>\n",
       "    </tr>\n",
       "  </thead>\n",
       "  <tbody>\n",
       "    <tr>\n",
       "      <th>0</th>\n",
       "      <td>66759.06</td>\n",
       "    </tr>\n",
       "    <tr>\n",
       "      <th>1</th>\n",
       "      <td>61825.81</td>\n",
       "    </tr>\n",
       "    <tr>\n",
       "      <th>2</th>\n",
       "      <td>67829.82</td>\n",
       "    </tr>\n",
       "    <tr>\n",
       "      <th>3</th>\n",
       "      <td>62836.95</td>\n",
       "    </tr>\n",
       "    <tr>\n",
       "      <th>4</th>\n",
       "      <td>62212.44</td>\n",
       "    </tr>\n",
       "  </tbody>\n",
       "</table>\n",
       "</div>"
      ],
      "text/plain": [
       "   Salary Difference\n",
       "0           66759.06\n",
       "1           61825.81\n",
       "2           67829.82\n",
       "3           62836.95\n",
       "4           62212.44"
      ]
     },
     "execution_count": 63,
     "metadata": {},
     "output_type": "execute_result"
    }
   ],
   "source": [
    "continent_differences = []\n",
    "\n",
    "for i in range(10000):\n",
    "    sample_europe = df_europe[\"Salary in USD\"].sample(frac=1, replace=True)\n",
    "    sample_northamerica = df_northamerica[\"Salary in USD\"].sample(frac=1, replace=True)\n",
    "    \n",
    "    observed_mean_diff = abs(sample_europe.mean() - sample_northamerica.mean())\n",
    "    \n",
    "    continent_differences.append(observed_mean_diff)\n",
    "\n",
    "continent_differences = pd.DataFrame({'Salary Difference': continent_differences})\n",
    "\n",
    "round(continent_differences.head(),2)"
   ]
  },
  {
   "cell_type": "code",
   "execution_count": 64,
   "metadata": {},
   "outputs": [
    {
     "data": {
      "text/html": [
       "<div>\n",
       "<style scoped>\n",
       "    .dataframe tbody tr th:only-of-type {\n",
       "        vertical-align: middle;\n",
       "    }\n",
       "\n",
       "    .dataframe tbody tr th {\n",
       "        vertical-align: top;\n",
       "    }\n",
       "\n",
       "    .dataframe thead th {\n",
       "        text-align: right;\n",
       "    }\n",
       "</style>\n",
       "<table border=\"1\" class=\"dataframe\">\n",
       "  <thead>\n",
       "    <tr style=\"text-align: right;\">\n",
       "      <th></th>\n",
       "      <th>Salary Difference</th>\n",
       "    </tr>\n",
       "  </thead>\n",
       "  <tbody>\n",
       "    <tr>\n",
       "      <th>count</th>\n",
       "      <td>10000.00</td>\n",
       "    </tr>\n",
       "    <tr>\n",
       "      <th>mean</th>\n",
       "      <td>65164.86</td>\n",
       "    </tr>\n",
       "    <tr>\n",
       "      <th>std</th>\n",
       "      <td>2530.31</td>\n",
       "    </tr>\n",
       "    <tr>\n",
       "      <th>min</th>\n",
       "      <td>53916.60</td>\n",
       "    </tr>\n",
       "    <tr>\n",
       "      <th>25%</th>\n",
       "      <td>63482.64</td>\n",
       "    </tr>\n",
       "    <tr>\n",
       "      <th>50%</th>\n",
       "      <td>65189.38</td>\n",
       "    </tr>\n",
       "    <tr>\n",
       "      <th>75%</th>\n",
       "      <td>66882.43</td>\n",
       "    </tr>\n",
       "    <tr>\n",
       "      <th>max</th>\n",
       "      <td>73995.52</td>\n",
       "    </tr>\n",
       "  </tbody>\n",
       "</table>\n",
       "</div>"
      ],
      "text/plain": [
       "       Salary Difference\n",
       "count           10000.00\n",
       "mean            65164.86\n",
       "std              2530.31\n",
       "min             53916.60\n",
       "25%             63482.64\n",
       "50%             65189.38\n",
       "75%             66882.43\n",
       "max             73995.52"
      ]
     },
     "execution_count": 64,
     "metadata": {},
     "output_type": "execute_result"
    }
   ],
   "source": [
    "round(continent_differences.describe(),2)"
   ]
  },
  {
   "cell_type": "code",
   "execution_count": 65,
   "metadata": {},
   "outputs": [
    {
     "name": "stdout",
     "output_type": "stream",
     "text": [
      "P-value is 0.8122\n"
     ]
    }
   ],
   "source": [
    "extreme_values = continent_differences[continent_differences['Salary Difference'] >= abs(observed_mean_diff)].count() + \\\n",
    "                 continent_differences[continent_differences['Salary Difference'] <= -abs(observed_mean_diff)].count()\n",
    "\n",
    "p_value = extreme_values / len(continent_differences)\n",
    "\n",
    "print(f\"P-value is {p_value.iloc[0]}\")\n"
   ]
  },
  {
   "cell_type": "markdown",
   "metadata": {},
   "source": [
    "With a p-value of 0.8122, which is greater than the significance level α = 0.01, we fail to reject the null hypothesis. There is insufficient evidence to conclude that the average salaries of data science professionals in Europe and North America are different."
   ]
  },
  {
   "cell_type": "markdown",
   "metadata": {},
   "source": [
    "Interpret the significance level and p-value:\n",
    "\n",
    "With a significance level of 0.01, we set a strict threshold, meaning we require strong evidence (p < 0.01) to reject the null hypothesis and conclude that a difference exists.\n",
    "\n",
    "The p-value of 0.8122 means that there is a 81.22% probability of observing a mean salary difference as extreme as the one in our sample, assuming the null hypothesis is true. Since this p-value is much greater than our significance level of 0.01, we fail to reject the null hypothesis."
   ]
  },
  {
   "cell_type": "markdown",
   "metadata": {},
   "source": [
    "## Any other type of analysis/question you want to explore with this dataset.\n",
    "\n",
    "<u>Why?</u>: Sometimes undergraduate students will put the research projects that they did for their classes on their resumes when applying for graduate schools, internships, and jobs. If you're interested in showcasing cool analyses to write on your resume, this section could help with that. **(This section is not worth any points though).**"
   ]
  },
  {
   "cell_type": "code",
   "execution_count": null,
   "metadata": {},
   "outputs": [],
   "source": []
  },
  {
   "cell_type": "code",
   "execution_count": null,
   "metadata": {},
   "outputs": [],
   "source": []
  },
  {
   "cell_type": "code",
   "execution_count": null,
   "metadata": {},
   "outputs": [],
   "source": []
  },
  {
   "cell_type": "code",
   "execution_count": null,
   "metadata": {},
   "outputs": [],
   "source": []
  },
  {
   "cell_type": "code",
   "execution_count": null,
   "metadata": {},
   "outputs": [],
   "source": []
  },
  {
   "cell_type": "code",
   "execution_count": null,
   "metadata": {},
   "outputs": [],
   "source": []
  },
  {
   "cell_type": "code",
   "execution_count": null,
   "metadata": {},
   "outputs": [],
   "source": []
  },
  {
   "cell_type": "code",
   "execution_count": null,
   "metadata": {},
   "outputs": [],
   "source": []
  },
  {
   "cell_type": "code",
   "execution_count": null,
   "metadata": {},
   "outputs": [],
   "source": []
  },
  {
   "cell_type": "code",
   "execution_count": null,
   "metadata": {},
   "outputs": [],
   "source": []
  },
  {
   "cell_type": "markdown",
   "metadata": {},
   "source": [
    "## 4. Conclusion"
   ]
  },
  {
   "cell_type": "markdown",
   "metadata": {},
   "source": [
    "Conclusion:\n",
    "\n",
    "In this project, we analyzed salary trends in the data science profession by constructing a 95% confidence interval and performing a hypothesis test. The confidence interval estimated that the true average salary difference between pure data science roles and business data roles lies between $18,050.28 and $30,450.16, indicating that pure data science roles tend to offer higher salaries. Additionally, our hypothesis test investigated whether data science professionals in Europe earn significantly less than their North American counterparts post-pandemic. With a p-value of 0.2679 (greater than our significance level of 0.01), we failed to reject the null hypothesis, suggesting insufficient evidence to conclude a significant difference between these regions."
   ]
  },
  {
   "cell_type": "markdown",
   "metadata": {},
   "source": [
    "\n",
    "Limitations:\n",
    "\n",
    "Several limitations were present in this analysis. First, the dataset reflects only a sample of the global data science workforce, meaning results may not fully generalize to all data science professionals. Additionally, the presence of outliers and non-normal salary distributions posed challenges, requiring simulations to achieve accurate results. Contextual factors play a part in this project, such as differences in living costs and job roles affecting salary comparisons between Europe and North America, making it difficult to draw conclusions. These limitations suggest that individuals using these results should stay cautious, especially if basing career decisions solely on these results.\n"
   ]
  },
  {
   "cell_type": "markdown",
   "metadata": {},
   "source": [
    "Future Work:\n",
    "\n",
    "Future research could analyze salary trends by company size, industry, or job function for greater detail. Expanding the study to regions beyond Europe and North America would provide a broader view of global salary dynamics. Investigating emerging technologies, certifications, and long-term trends could reveal key factors influencing compensation over time."
   ]
  }
 ],
 "metadata": {
  "kernelspec": {
   "display_name": "Python 3 (ipykernel)",
   "language": "python",
   "name": "python3"
  },
  "language_info": {
   "codemirror_mode": {
    "name": "ipython",
    "version": 3
   },
   "file_extension": ".py",
   "mimetype": "text/x-python",
   "name": "python",
   "nbconvert_exporter": "python",
   "pygments_lexer": "ipython3",
   "version": "3.11.9"
  }
 },
 "nbformat": 4,
 "nbformat_minor": 4
}
